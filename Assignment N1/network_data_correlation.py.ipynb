{
 "cells": [
  {
   "cell_type": "code",
   "execution_count": 24,
   "id": "dcb7e6e9-5810-4a5c-9d3d-6ed24af48ee9",
   "metadata": {},
   "outputs": [
    {
     "data": {
      "text/html": [
       "<div>\n",
       "<style scoped>\n",
       "    .dataframe tbody tr th:only-of-type {\n",
       "        vertical-align: middle;\n",
       "    }\n",
       "\n",
       "    .dataframe tbody tr th {\n",
       "        vertical-align: top;\n",
       "    }\n",
       "\n",
       "    .dataframe thead th {\n",
       "        text-align: right;\n",
       "    }\n",
       "</style>\n",
       "<table border=\"1\" class=\"dataframe\">\n",
       "  <thead>\n",
       "    <tr style=\"text-align: right;\">\n",
       "      <th></th>\n",
       "      <th>Packet Size</th>\n",
       "      <th>Error Number</th>\n",
       "      <th>Session Duration</th>\n",
       "      <th>Protocol Number</th>\n",
       "    </tr>\n",
       "  </thead>\n",
       "  <tbody>\n",
       "    <tr>\n",
       "      <th>0</th>\n",
       "      <td>726</td>\n",
       "      <td>4</td>\n",
       "      <td>41</td>\n",
       "      <td>235</td>\n",
       "    </tr>\n",
       "    <tr>\n",
       "      <th>1</th>\n",
       "      <td>1141</td>\n",
       "      <td>5</td>\n",
       "      <td>76</td>\n",
       "      <td>236</td>\n",
       "    </tr>\n",
       "    <tr>\n",
       "      <th>2</th>\n",
       "      <td>725</td>\n",
       "      <td>7</td>\n",
       "      <td>35</td>\n",
       "      <td>70</td>\n",
       "    </tr>\n",
       "    <tr>\n",
       "      <th>3</th>\n",
       "      <td>1428</td>\n",
       "      <td>9</td>\n",
       "      <td>101</td>\n",
       "      <td>143</td>\n",
       "    </tr>\n",
       "    <tr>\n",
       "      <th>4</th>\n",
       "      <td>1404</td>\n",
       "      <td>4</td>\n",
       "      <td>78</td>\n",
       "      <td>1</td>\n",
       "    </tr>\n",
       "    <tr>\n",
       "      <th>...</th>\n",
       "      <td>...</td>\n",
       "      <td>...</td>\n",
       "      <td>...</td>\n",
       "      <td>...</td>\n",
       "    </tr>\n",
       "    <tr>\n",
       "      <th>195</th>\n",
       "      <td>784</td>\n",
       "      <td>4</td>\n",
       "      <td>97</td>\n",
       "      <td>127</td>\n",
       "    </tr>\n",
       "    <tr>\n",
       "      <th>196</th>\n",
       "      <td>680</td>\n",
       "      <td>1</td>\n",
       "      <td>31</td>\n",
       "      <td>73</td>\n",
       "    </tr>\n",
       "    <tr>\n",
       "      <th>197</th>\n",
       "      <td>1625</td>\n",
       "      <td>8</td>\n",
       "      <td>36</td>\n",
       "      <td>164</td>\n",
       "    </tr>\n",
       "    <tr>\n",
       "      <th>198</th>\n",
       "      <td>898</td>\n",
       "      <td>1</td>\n",
       "      <td>86</td>\n",
       "      <td>133</td>\n",
       "    </tr>\n",
       "    <tr>\n",
       "      <th>199</th>\n",
       "      <td>1323</td>\n",
       "      <td>5</td>\n",
       "      <td>92</td>\n",
       "      <td>130</td>\n",
       "    </tr>\n",
       "  </tbody>\n",
       "</table>\n",
       "<p>200 rows × 4 columns</p>\n",
       "</div>"
      ],
      "text/plain": [
       "     Packet Size  Error Number  Session Duration  Protocol Number\n",
       "0            726             4                41              235\n",
       "1           1141             5                76              236\n",
       "2            725             7                35               70\n",
       "3           1428             9               101              143\n",
       "4           1404             4                78                1\n",
       "..           ...           ...               ...              ...\n",
       "195          784             4                97              127\n",
       "196          680             1                31               73\n",
       "197         1625             8                36              164\n",
       "198          898             1                86              133\n",
       "199         1323             5                92              130\n",
       "\n",
       "[200 rows x 4 columns]"
      ]
     },
     "execution_count": 24,
     "metadata": {},
     "output_type": "execute_result"
    }
   ],
   "source": [
    "import pandas as pd\n",
    "import numpy as np\n",
    "import matplotlib.pyplot as plt\n",
    "import seaborn as sns\n",
    "df = pd.read_csv('network_data.csv')\n",
    "\n",
    "df"
   ]
  },
  {
   "cell_type": "code",
   "execution_count": 25,
   "id": "02434e84-b0a0-4271-8c40-8d2efcfde327",
   "metadata": {},
   "outputs": [
    {
     "data": {
      "text/html": [
       "<div>\n",
       "<style scoped>\n",
       "    .dataframe tbody tr th:only-of-type {\n",
       "        vertical-align: middle;\n",
       "    }\n",
       "\n",
       "    .dataframe tbody tr th {\n",
       "        vertical-align: top;\n",
       "    }\n",
       "\n",
       "    .dataframe thead th {\n",
       "        text-align: right;\n",
       "    }\n",
       "</style>\n",
       "<table border=\"1\" class=\"dataframe\">\n",
       "  <thead>\n",
       "    <tr style=\"text-align: right;\">\n",
       "      <th></th>\n",
       "      <th>Packet Size</th>\n",
       "      <th>Error Number</th>\n",
       "      <th>Session Duration</th>\n",
       "      <th>Protocol Number</th>\n",
       "    </tr>\n",
       "  </thead>\n",
       "  <tbody>\n",
       "    <tr>\n",
       "      <th>Packet Size</th>\n",
       "      <td>1.000000</td>\n",
       "      <td>0.028770</td>\n",
       "      <td>-0.130087</td>\n",
       "      <td>0.032864</td>\n",
       "    </tr>\n",
       "    <tr>\n",
       "      <th>Error Number</th>\n",
       "      <td>0.028770</td>\n",
       "      <td>1.000000</td>\n",
       "      <td>-0.083144</td>\n",
       "      <td>0.129160</td>\n",
       "    </tr>\n",
       "    <tr>\n",
       "      <th>Session Duration</th>\n",
       "      <td>-0.130087</td>\n",
       "      <td>-0.083144</td>\n",
       "      <td>1.000000</td>\n",
       "      <td>-0.019251</td>\n",
       "    </tr>\n",
       "    <tr>\n",
       "      <th>Protocol Number</th>\n",
       "      <td>0.032864</td>\n",
       "      <td>0.129160</td>\n",
       "      <td>-0.019251</td>\n",
       "      <td>1.000000</td>\n",
       "    </tr>\n",
       "  </tbody>\n",
       "</table>\n",
       "</div>"
      ],
      "text/plain": [
       "                  Packet Size  Error Number  Session Duration  Protocol Number\n",
       "Packet Size          1.000000      0.028770         -0.130087         0.032864\n",
       "Error Number         0.028770      1.000000         -0.083144         0.129160\n",
       "Session Duration    -0.130087     -0.083144          1.000000        -0.019251\n",
       "Protocol Number      0.032864      0.129160         -0.019251         1.000000"
      ]
     },
     "execution_count": 25,
     "metadata": {},
     "output_type": "execute_result"
    }
   ],
   "source": [
    "# To indicate the parameters, the correlation coefficient is calculated using the Pearson method\n",
    "corre_matrix = df.corr(method='pearson')\n",
    "corre_matrix"
   ]
  },
  {
   "cell_type": "code",
   "execution_count": 26,
   "id": "a1117df7-c511-49d3-baa5-c2011c51b31f",
   "metadata": {},
   "outputs": [
    {
     "data": {
      "image/png": "[encoded data removed]",
      "text/plain": [
       "<Figure size 1000x800 with 2 Axes>"
      ]
     },
     "metadata": {},
     "output_type": "display_data"
    }
   ],
   "source": [
    "# Plotting the heatmap\n",
    "plt.figure(figsize=(10, 8))\n",
    "sns.heatmap(corre_matrix, annot=True, cmap='coolwarm', fmt=\".2f\")\n",
    "plt.title(\"Correlation Matrix\")\n",
    "\n",
    "# Save the heatmap as a PDF file\n",
    "plt.savefig(\"correlation_matrix.pdf\", format='pdf', bbox_inches='tight')\n",
    "plt.show()"
   ]
  },
  {
   "cell_type": "code",
   "execution_count": 28,
   "id": "040de626-331d-4aeb-8c22-42355a52c21b",
   "metadata": {},
   "outputs": [
    {
     "name": "stdout",
     "output_type": "stream",
     "text": [
      "Successfully saved 'highest_correlation.pdf'.\n"
     ]
    }
   ],
   "source": [
    "correlation_values = corre_matrix.unstack()\n",
    "sorted_correlation_values = correlation_values.sort_values(ascending=False)\n",
    "highest_correlation = sorted_correlation_values[sorted_correlation_values < 1].head(2)\n",
    "\n",
    "# Extract the names of the two features with the highest correlation\n",
    "feature1 = highest_correlation.index[0][0]\n",
    "feature2 = highest_correlation.index[0][1]\n",
    "\n",
    "try:\n",
    "    with open('highest_correlation.pdf', 'w') as f:\n",
    "        f.write(f'Two features with the highest correlation: {feature1} and {feature2}')\n",
    "    print(\"Successfully saved 'highest_correlation.pdf'.\")\n",
    "except Exception as e:\n",
    "    print(\"Error saving 'highest_correlation.pdf':\", e)"
   ]
  },
  {
   "cell_type": "code",
   "execution_count": null,
   "id": "554ef1c0-27ac-44cb-8e8b-90284d220fed",
   "metadata": {},
   "outputs": [],
   "source": []
  }
 ],
 "metadata": {
  "kernelspec": {
   "display_name": "Python 3 (ipykernel)",
   "language": "python",
   "name": "python3"
  },
  "language_info": {
   "codemirror_mode": {
    "name": "ipython",
    "version": 3
   },
   "file_extension": ".py",
   "mimetype": "text/x-python",
   "name": "python",
   "nbconvert_exporter": "python",
   "pygments_lexer": "ipython3",
   "version": "3.11.7"
  }
 },
 "nbformat": 4,
 "nbformat_minor": 5
}
